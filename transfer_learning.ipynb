{
 "cells": [
  {
   "cell_type": "code",
   "execution_count": 10,
   "metadata": {},
   "outputs": [],
   "source": [
    "from keras.applications import VGG19,inception_v3\n",
    "from keras import models\n",
    "from keras import layers\n",
    "from keras import optimizers\n",
    "from keras.preprocessing.image import load_img, img_to_array, ImageDataGenerator\n",
    "import numpy as np\n",
    "import matplotlib.pyplot as plt\n",
    "import os"
   ]
  },
  {
   "cell_type": "code",
   "execution_count": 11,
   "metadata": {},
   "outputs": [],
   "source": [
    "def vgg19():\n",
    "    # VGG16 model\n",
    "    vgg_conv = VGG19(weights=\"imagenet\",\n",
    "                 include_top = False,\n",
    "                 input_shape=(224,224,3))\n",
    "    \n",
    "    return vgg_conv\n",
    "\n",
    "def in_v3_model():\n",
    "    in_v3 = inception_v3.InceptionV3(weights=\"imagenet\",\n",
    "                         include_top=False,\n",
    "                         input_shape=(299,299,3)) \n",
    "    \n",
    "    return in_v3    "
   ]
  },
  {
   "cell_type": "code",
   "execution_count": 12,
   "metadata": {},
   "outputs": [],
   "source": [
    "def pred_generator_features(model, generator, batch_size, feature_size):\n",
    "    sample_size = len(generator.filenames)\n",
    "    class_num = len(generator.class_indices.keys())\n",
    "#    pred_features = np.zeros(shape=(sample_size, 8, 8, 2048))\n",
    "    pred_features = np.zeros(shape=(sample_size, feature_size[0], feature_size[1], feature_size[2]))\n",
    "    labels = np.zeros(shape=(sample_size, class_num))\n",
    "    i = 0\n",
    "    \n",
    "    # predict training features\n",
    "    for input_batch, labels_batch in generator:\n",
    "        features_batch = model.predict(input_batch)\n",
    "        pred_features[i * batch_size : (i + 1) * batch_size] = features_batch\n",
    "        labels[i * batch_size : (i + 1) * batch_size] = labels_batch\n",
    "        \n",
    "        i += 1\n",
    "        \n",
    "        if i * batch_size >= sample_size:\n",
    "            break\n",
    "    pred_features = np.reshape(pred_features, (sample_size, feature_size[0]*feature_size[1]*feature_size[2]))\n",
    "    \n",
    "    return [pred_features, labels]"
   ]
  },
  {
   "cell_type": "code",
   "execution_count": 13,
   "metadata": {},
   "outputs": [],
   "source": [
    "def get_train_features(pre_trained_model, target_size, feature_size, train_dir): \n",
    "    batch_size = 20\n",
    "    \n",
    "    # generator training data from directory\n",
    "    datagen = ImageDataGenerator(rescale=1./255)\n",
    "    train_generator = datagen.flow_from_directory(\n",
    "        train_dir,\n",
    "        target_size= target_size,\n",
    "        batch_size=batch_size,\n",
    "        class_mode=\"categorical\")\n",
    "    \n",
    "    np.save('25_class_indices_in_v3', train_generator.class_indices)\n",
    "    \n",
    "    \n",
    "    # training features and training lables\n",
    "    [train_features, train_labels] = pred_generator_features(pre_trained_model,\n",
    "                                             train_generator,\n",
    "                                             batch_size,\n",
    "                                             feature_size)\n",
    "    \n",
    "    \n",
    "    return [train_features, train_labels]"
   ]
  },
  {
   "cell_type": "code",
   "execution_count": 14,
   "metadata": {},
   "outputs": [],
   "source": [
    "def cnn_model(train_features,\n",
    "              train_labels,\n",
    "              epochs=20,\n",
    "              batch_size=20,\n",
    "              validation_split=0.2):\n",
    "    classifier = models.Sequential()\n",
    "    classifier.add(layers.Dense(256, activation='relu', input_dim=train_features.shape[1]))\n",
    "    classifier.add(layers.Dropout(0.5))\n",
    "    classifier.add(layers.Dense(25, activation='softmax'))\n",
    "    \n",
    "    classifier.compile(optimizer=optimizers.RMSprop(lr=2e-4),\n",
    "                       loss='categorical_crossentropy',\n",
    "                       metrics = ['accuracy'])\n",
    "    \n",
    "    history = classifier.fit(train_features,\n",
    "                        train_labels,\n",
    "                        epochs=epochs,\n",
    "                        batch_size=batch_size,\n",
    "                        validation_split=validation_split)\n",
    "    \n",
    "    classifier.save('small_in_v3.h5')\n",
    "    \n",
    "    plot_figure(history)\n",
    "    \n",
    "    return classifier"
   ]
  },
  {
   "cell_type": "code",
   "execution_count": 15,
   "metadata": {},
   "outputs": [],
   "source": [
    "def plot_figure(history):\n",
    "    acc = history.history['acc']\n",
    "    val_acc = history.history['val_acc']\n",
    "    loss = history.history['loss']\n",
    "    val_loss = history.history['val_loss']\n",
    "    \n",
    "    epochs = range(len(acc))\n",
    "    \n",
    "    plt.plot(epochs, acc, 'b', label = 'Training acc')\n",
    "    plt.plot(epochs, val_acc, 'r', label = 'Validation acc')\n",
    "    plt.title('Training and validation accuracy')\n",
    "    plt.legend()\n",
    "    \n",
    "    plt.figure()\n",
    "    \n",
    "    plt.plot(epochs, loss, 'b', label=\"Training loss\")\n",
    "    plt.plot(epochs, val_loss, 'r', label=\"Validation loss\")\n",
    "    plt.title(\"Training and validation loss\")\n",
    "    plt.legend()\n",
    "    \n",
    "    plt.show()"
   ]
  },
  {
   "cell_type": "code",
   "execution_count": 16,
   "metadata": {},
   "outputs": [],
   "source": [
    "def model_training(pre_trained_model, target_size, feature_size, train_dir):\n",
    "    [train_features, train_labels] = get_train_features(pre_trained_model,target_size,feature_size, train_dir)\n",
    "    cnn_model(train_features, train_labels)"
   ]
  },
  {
   "cell_type": "code",
   "execution_count": 17,
   "metadata": {},
   "outputs": [],
   "source": [
    "def prediction(pre_trained_model, target_size, cnn_model, pred_dir, class_indices):\n",
    "    # e.g. {13: \"green_bean_cake\"}\n",
    "    idx_2_label = dict((v,k) for k, v in class_indices.items())\n",
    "    \n",
    "    # scan predicions directory\n",
    "    with os.scandir(pred_dir) as it:\n",
    "        for cat in it:\n",
    "            if cat.is_dir():\n",
    "                with os.scandir(cat.path) as sub:\n",
    "                    for file in sub:\n",
    "                        if file.name.find(\".DS_Store\") < 0:\n",
    "                            \n",
    "                            img = load_img(file.path, target_size=target_size)\n",
    "                            plt.imshow(img)\n",
    "                            plt.show()\n",
    "                            \n",
    "                            img_numpy = img_to_array(img) / 255\n",
    "                            \n",
    "                            img_numpy = img_numpy.reshape(1, target_size[0], target_size[1],3)\n",
    "                            \n",
    "                            pred_feature = pre_trained_model.predict(img_numpy).reshape(1, -1)\n",
    "            \n",
    "                            pred = np.argmax(cnn_model.predict(pred_feature))\n",
    "                            print(f'{cat.name} predicted as {pred}: {idx_2_label[pred]}')\n",
    "    "
   ]
  },
  {
   "cell_type": "code",
   "execution_count": 18,
   "metadata": {},
   "outputs": [
    {
     "name": "stdout",
     "output_type": "stream",
     "text": [
      "Found 1750 images belonging to 25 classes.\n",
      "Train on 1400 samples, validate on 350 samples\n",
      "Epoch 1/20\n",
      "1400/1400 [==============================] - 6s 5ms/step - loss: 11.4174 - acc: 0.1900 - val_loss: 3.1150 - val_acc: 0.6086\n",
      "Epoch 2/20\n",
      "1400/1400 [==============================] - 3s 2ms/step - loss: 2.2299 - acc: 0.6414 - val_loss: 0.5853 - val_acc: 0.8371\n",
      "Epoch 3/20\n",
      "1400/1400 [==============================] - 3s 2ms/step - loss: 0.8576 - acc: 0.8264 - val_loss: 0.2853 - val_acc: 0.9543\n",
      "Epoch 4/20\n",
      "1400/1400 [==============================] - 3s 2ms/step - loss: 0.5190 - acc: 0.9036 - val_loss: 0.2696 - val_acc: 0.9429\n",
      "Epoch 5/20\n",
      "1400/1400 [==============================] - 3s 2ms/step - loss: 0.4776 - acc: 0.9064 - val_loss: 0.1624 - val_acc: 0.9657\n",
      "Epoch 6/20\n",
      "1400/1400 [==============================] - 3s 2ms/step - loss: 0.4129 - acc: 0.9279 - val_loss: 0.2886 - val_acc: 0.9486\n",
      "Epoch 7/20\n",
      "1400/1400 [==============================] - 3s 2ms/step - loss: 0.3490 - acc: 0.9436 - val_loss: 0.2966 - val_acc: 0.9514\n",
      "Epoch 8/20\n",
      "1400/1400 [==============================] - 3s 2ms/step - loss: 0.2319 - acc: 0.9521 - val_loss: 0.1392 - val_acc: 0.9771\n",
      "Epoch 9/20\n",
      "1400/1400 [==============================] - 3s 2ms/step - loss: 0.3344 - acc: 0.9464 - val_loss: 0.1235 - val_acc: 0.9686\n",
      "Epoch 10/20\n",
      "1400/1400 [==============================] - 3s 2ms/step - loss: 0.2812 - acc: 0.9557 - val_loss: 0.1051 - val_acc: 0.9771\n",
      "Epoch 11/20\n",
      "1400/1400 [==============================] - 3s 2ms/step - loss: 0.1950 - acc: 0.9629 - val_loss: 0.1251 - val_acc: 0.9771\n",
      "Epoch 12/20\n",
      "1400/1400 [==============================] - 3s 2ms/step - loss: 0.2034 - acc: 0.9693 - val_loss: 0.1002 - val_acc: 0.9743\n",
      "Epoch 13/20\n",
      "1400/1400 [==============================] - 3s 2ms/step - loss: 0.1516 - acc: 0.9707 - val_loss: 0.1930 - val_acc: 0.9600\n",
      "Epoch 14/20\n",
      "1400/1400 [==============================] - 3s 2ms/step - loss: 0.1960 - acc: 0.9657 - val_loss: 0.3183 - val_acc: 0.9486\n",
      "Epoch 15/20\n",
      "1400/1400 [==============================] - 3s 2ms/step - loss: 0.1729 - acc: 0.9786 - val_loss: 0.1175 - val_acc: 0.9800\n",
      "Epoch 16/20\n",
      "1400/1400 [==============================] - 3s 2ms/step - loss: 0.1430 - acc: 0.9779 - val_loss: 0.1216 - val_acc: 0.9771\n",
      "Epoch 17/20\n",
      "1400/1400 [==============================] - 3s 2ms/step - loss: 0.2456 - acc: 0.9707 - val_loss: 0.1962 - val_acc: 0.9657\n",
      "Epoch 18/20\n",
      "1400/1400 [==============================] - 3s 2ms/step - loss: 0.1347 - acc: 0.9800 - val_loss: 0.1650 - val_acc: 0.9829\n",
      "Epoch 19/20\n",
      "1400/1400 [==============================] - 3s 2ms/step - loss: 0.1182 - acc: 0.9800 - val_loss: 0.2322 - val_acc: 0.9686\n",
      "Epoch 20/20\n",
      "1400/1400 [==============================] - 3s 2ms/step - loss: 0.1429 - acc: 0.9829 - val_loss: 0.1056 - val_acc: 0.9800\n"
     ]
    },
    {
     "data": {
      "image/png": "[encoded data removed]",
      "text/plain": [
       "<Figure size 432x288 with 1 Axes>"
      ]
     },
     "metadata": {
      "needs_background": "light"
     },
     "output_type": "display_data"
    },
    {
     "data": {
      "image/png": "[encoded data removed]",
      "text/plain": [
       "<Figure size 432x288 with 1 Axes>"
      ]
     },
     "metadata": {
      "needs_background": "light"
     },
     "output_type": "display_data"
    }
   ],
   "source": [
    "if __name__ == \"__main__\":\n",
    "    \n",
    "    # inception_v3 model\n",
    "    in_v3 = in_v3_model()\n",
    "    train_dir = \"./small_images\"\n",
    "    \n",
    "    model_training(in_v3, (299, 299), (8, 8, 2048), train_dir)"
   ]
  },
  {
   "cell_type": "code",
   "execution_count": null,
   "metadata": {},
   "outputs": [],
   "source": [
    " # prediction\n",
    "    \n",
    "class_indices = np.load(\"./25_class_indices_in_v3.npy\").item()\n",
    "model = models.load_model(\"./small_in_v3.h5\")\n",
    "prediction(in_v3, (299, 299), model, \"./predictions\", class_indices)"
   ]
  }
 ],
 "metadata": {
  "kernelspec": {
   "display_name": "kernel_for_tensorflow",
   "language": "python",
   "name": "kernel_for_tensorflow"
  },
  "language_info": {
   "codemirror_mode": {
    "name": "ipython",
    "version": 3
   },
   "file_extension": ".py",
   "mimetype": "text/x-python",
   "name": "python",
   "nbconvert_exporter": "python",
   "pygments_lexer": "ipython3",
   "version": "3.6.8"
  }
 },
 "nbformat": 4,
 "nbformat_minor": 2
}
