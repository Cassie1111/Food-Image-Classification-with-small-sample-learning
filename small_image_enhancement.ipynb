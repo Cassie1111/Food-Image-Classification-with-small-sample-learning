{
 "cells": [
  {
   "cell_type": "code",
   "execution_count": 1,
   "metadata": {},
   "outputs": [],
   "source": [
    "import os\n",
    "from PIL import Image, ImageFilter, ImageOps"
   ]
  },
  {
   "cell_type": "code",
   "execution_count": 1,
   "metadata": {},
   "outputs": [],
   "source": [
    "def split_channel(image):\n",
    "    im = image.convert(\"RGB\")\n",
    "    r,g,b = im.split()\n",
    "    r=r.convert(\"RGB\")\n",
    "    g=g.convert(\"RGB\")\n",
    "    b=b.convert(\"RGB\")\n",
    "    \n",
    "    return [r,g,b]"
   ]
  },
  {
   "cell_type": "code",
   "execution_count": 2,
   "metadata": {},
   "outputs": [],
   "source": [
    "def filter_image(image):\n",
    "    blur_img = image.filter(ImageFilter.GaussianBlur)\n",
    "    unsharp_img = image.filter(ImageFilter.UnsharpMask)\n",
    "    sharp_img = image.filter(ImageFilter.SHARPEN)\n",
    "    edge_img = image.filter(ImageFilter.EDGE_ENHANCE)\n",
    "    smooth_img = image.filter(ImageFilter.SMOOTH)\n",
    "    \n",
    "    return [blur_img, unsharp_img, sharp_img, edge_img, smooth_img]"
   ]
  },
  {
   "cell_type": "code",
   "execution_count": 3,
   "metadata": {},
   "outputs": [],
   "source": [
    "def rotate_image(image, angle):\n",
    "    return image.rotate(angle)\n",
    "\n",
    "def crop_image(image, size):\n",
    "    return ImageOps.fit(image, size)\n",
    "\n",
    "def flip_image(image):\n",
    "    return ImageOps.flip(image)\n",
    "\n",
    "def mirror_image(image):\n",
    "    return ImageOps.mirror(image)\n",
    "\n",
    "def contrast_image(image):\n",
    "    return ImageOps.autocontrast(image, 5)"
   ]
  },
  {
   "cell_type": "code",
   "execution_count": 4,
   "metadata": {},
   "outputs": [],
   "source": [
    "def save_image(image, path, name):\n",
    "    # r,g,b\n",
    "    [r, g, b] = split_channel(image)\n",
    "    \n",
    "    # filters\n",
    "    [blur_img, unsharp_img, sharp_img, edge_img, smooth_img] = filter_image(image)\n",
    "    \n",
    "    # rotate\n",
    "    rotate45_img = rotate_image(image, 45)\n",
    "    \n",
    "    # crop\n",
    "    im_crop = crop_image(image, (128, 128))\n",
    "    \n",
    "    # flip\n",
    "    img_flip = flip_image(image)\n",
    "    \n",
    "    # mirror\n",
    "    img_mirror = mirror_image(image)\n",
    "    \n",
    "    # contrast\n",
    "    img_contrast = contrast_image(image)\n",
    "    \n",
    "    # save file\n",
    "    filepath = os.path.join(path, name)\n",
    "    r.save(filepath + '_r.jpg')\n",
    "    g.save(filepath + '_g.jpg')\n",
    "    b.save(filepath + '_b.jpg')\n",
    "    \n",
    "    blur_img.save(filepath + '_blur.jpg')\n",
    "    unsharp_img.save(filepath + '_unsharp.jpg')\n",
    "    sharp_img.save(filepath + '_sharp.jpg')\n",
    "    edge_img.save(filepath + '_edge.jpg')\n",
    "    smooth_img.save(filepath + '_smooth.jpg')\n",
    "    \n",
    "    \n",
    "    rotate45_img.save(filepath + '_rotate45.jpg')\n",
    "    im_crop.save(filepath + '_crop.jpg')\n",
    "    \n",
    "    img_flip.save(filepath + '_flip.jpg')\n",
    "    img_mirror.save(filepath + '_mirror.jpg')\n",
    "    img_contrast.save(filepath + '_contrast.jpg')"
   ]
  },
  {
   "cell_type": "code",
   "execution_count": 5,
   "metadata": {},
   "outputs": [],
   "source": [
    "def delete_enhanced_img(path):\n",
    "     with os.scandir(path) as top:\n",
    "        for category in top:\n",
    "            if category.is_dir():\n",
    "                # scan all file in each category\n",
    "                with os.scandir(category.path) as sub:\n",
    "                    for file in sub:\n",
    "                        image_name = file.name\n",
    "                        \n",
    "                        if image_name.find('_') > 0: \n",
    "                            filepath = os.path.join(category.path, image_name)\n",
    "                            os.remove(filepath)"
   ]
  },
  {
   "cell_type": "code",
   "execution_count": 5,
   "metadata": {},
   "outputs": [],
   "source": [
    "if __name__ == \"__main__\":\n",
    "    path = \"./small_images\"\n",
    " \n",
    "    with os.scandir(path) as top:\n",
    "        for category in top:\n",
    "            if category.is_dir():\n",
    "                # scan all file in each category\n",
    "                with os.scandir(category.path) as sub:\n",
    "                    for file in sub:\n",
    "                        image_name = file.name\n",
    "\n",
    "                        filepath = os.path.join(category.path, image_name)\n",
    "                        im = Image.open(filepath)\n",
    "                        \n",
    "                        [name, ext] = image_name.split('.')\n",
    "                        save_image(im, category.path, name)"
   ]
  },
  {
   "cell_type": "code",
   "execution_count": null,
   "metadata": {},
   "outputs": [],
   "source": []
  }
 ],
 "metadata": {
  "kernelspec": {
   "display_name": "kernel_for_tensorflow",
   "language": "python",
   "name": "kernel_for_tensorflow"
  },
  "language_info": {
   "codemirror_mode": {
    "name": "ipython",
    "version": 3
   },
   "file_extension": ".py",
   "mimetype": "text/x-python",
   "name": "python",
   "nbconvert_exporter": "python",
   "pygments_lexer": "ipython3",
   "version": "3.6.8"
  }
 },
 "nbformat": 4,
 "nbformat_minor": 2
}
